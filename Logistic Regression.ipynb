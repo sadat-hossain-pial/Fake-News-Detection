{
 "cells": [
  {
   "cell_type": "markdown",
   "id": "91da2027",
   "metadata": {},
   "source": [
    "#### Full Work Done By Nazifa Tabassum"
   ]
  },
  {
   "cell_type": "code",
   "execution_count": 3,
   "id": "8f3fe5af",
   "metadata": {},
   "outputs": [
    {
     "data": {
      "text/plain": [
       "TRUE    586\n",
       "FAKE    578\n",
       "Name: label, dtype: int64"
      ]
     },
     "execution_count": 3,
     "metadata": {},
     "output_type": "execute_result"
    }
   ],
   "source": [
    "import re\n",
    "from nltk.stem.porter import PorterStemmer\n",
    "from sklearn.feature_extraction.text import TfidfVectorizer\n",
    "from sklearn.model_selection import train_test_split\n",
    "import pickle\n",
    "from sklearn.linear_model import LogisticRegressionCV\n",
    "import pandas as pd\n",
    "df = pd.read_csv('corona_fake.csv')\n",
    "\n",
    "df.loc[df['label'] == 'Fake', ['label']] = 'FAKE'\n",
    "df.loc[df['label'] == 'fake', ['label']] = 'FAKE'\n",
    "df.loc[df['source'] == 'facebook', ['source']] = 'Facebook'\n",
    "df.text.fillna(df.title, inplace=True)\n",
    "\n",
    "df.loc[5]['label'] = 'FAKE'\n",
    "df.loc[15]['label'] = 'TRUE'\n",
    "df.loc[43]['label'] = 'FAKE'\n",
    "df.loc[131]['label'] = 'TRUE'\n",
    "df.loc[242]['label'] = 'FAKE'\n",
    "\n",
    "df = df.sample(frac=1).reset_index(drop=True)\n",
    "df.title.fillna('missing', inplace=True)\n",
    "df.source.fillna('missing', inplace=True)\n",
    "\n",
    "df['title_text'] = df['title'] + ' ' + df['text']\n",
    "df['label'].value_counts()"
   ]
  },
  {
   "cell_type": "code",
   "execution_count": 39,
   "id": "ea51a8f7",
   "metadata": {},
   "outputs": [
    {
     "data": {
      "image/png": "[encoded data removed]",
      "text/plain": [
       "<Figure size 432x288 with 1 Axes>"
      ]
     },
     "metadata": {
      "needs_background": "light"
     },
     "output_type": "display_data"
    }
   ],
   "source": [
    "import matplotlib.pyplot as plt\n",
    "import numpy as np\n",
    "\n",
    "x = np.array([\"True\", \"Fake\"])\n",
    "y = np.array([586, 578])\n",
    "plt.title('Distribution of Fake News and Real News', size=15)\n",
    "plt.xlabel('News Type', size=15)\n",
    "plt.ylabel('# of News Articles', size=15)\n",
    "plt.bar(x,y)\n",
    "plt.show()"
   ]
  },
  {
   "cell_type": "code",
   "execution_count": 18,
   "id": "b508153b",
   "metadata": {},
   "outputs": [
    {
     "data": {
      "text/plain": [
       "'How to Protect Yourself & Others There is currently no vaccine to prevent coronavirus disease 2019 (COVID-19). The best way to prevent illness is to avoid being exposed to this virus. The virus is thought to spread mainly from person-to-person. Between people who are in close contact with one another (within about 6 feet). Through respiratory droplets produced when an infected person coughs, sneezes or talks. These droplets can land in the mouths or noses of people who are nearby or possibly be inhaled into the lungs. Some recent studies have suggested that COVID-19 may be spread by people who are not showing symptoms. Clean your hands often. Wash your hands often with soap and water for at least 20 seconds especially after you have been in a public place, or after blowing your nose, coughing, or sneezing. If soap and water are not readily available, use a hand sanitizer that contains at least 60% alcohol. Cover all surfaces of your hands and rub them together until they feel dry. Avoid touching your eyes, nose, and mouth with unwashed hands. Avoid close contact. Avoid close contact with people who are sick. Stay home as much as possible.pdf iconexternal icon. Put distance between yourself and other people. Remember that some people without symptoms may be able to spread virus. Keeping distance from others is especially important for people who are at higher risk of getting very sick. Cover your mouth and nose with a cloth face cover when around others. You could spread COVID-19 to others even if you do not feel sick. Everyone should wear a cloth face cover when they have to go out in public, for example to the grocery store or to pick up other necessities. Cloth face coverings should not be placed on young children under age 2, anyone who has trouble breathing, or is unconscious, incapacitated or otherwise unable to remove the mask without assistance. The cloth face cover is meant to protect other people in case you are infected. Do NOT use a facemask meant for a healthcare worker. Continue to keep about 6 feet between yourself and others. The cloth face cover is not a substitute for social distancing. Cover coughs and sneezes. If you are in a private setting and do not have on your cloth face covering, remember to always cover your mouth and nose with a tissue when you cough or sneeze or use the inside of your elbow. Throw used tissues in the trash. Immediately wash your hands with soap and water for at least 20 seconds. If soap and water are not readily available, clean your hands with a hand sanitizer that contains at least 60% alcohol.Clean and disinfect Clean AND disinfect frequently touched surfaces daily. This includes tables, doorknobs, light switches, countertops, handles, desks, phones, keyboards, toilets, faucets, and sinks. If surfaces are dirty, clean them: Use detergent or soap and water prior to disinfection. To disinfect: Most common EPA-registered household disinfectants will work. Use disinfectants appropriate for the surface. Options include: Diluting your household bleach. To make a bleach solution, mix: 5 tablespoons (1/3rd cup) bleach per gallon of water. OR 4 teaspoons bleach per quart of water. Follow manufacturer’s instructions for application and proper ventilation. Check to ensure the product is not past its expiration date. Never mix household bleach with ammonia or any other cleanser. Unexpired household bleach will be effective against coronaviruses when properly diluted. Alcohol solutions.Ensure solution has at least 70% alcohol.'"
      ]
     },
     "execution_count": 18,
     "metadata": {},
     "output_type": "execute_result"
    }
   ],
   "source": [
    "df['title_text'][50]"
   ]
  },
  {
   "cell_type": "code",
   "execution_count": 5,
   "id": "3e9bb8f7",
   "metadata": {},
   "outputs": [
    {
     "data": {
      "text/plain": [
       "'should i get a flu shot while the flu shot wont protect you from developing covid19 its still a good idea most people older than six months can and should get the flu vaccine doing so reduces the chances of getting seasonal flu even if the vaccine doesnt prevent you from getting the flu it can decrease the chance of severe symptoms but again the flu vaccine will not protect you against this coronavirus'"
      ]
     },
     "execution_count": 5,
     "metadata": {},
     "output_type": "execute_result"
    }
   ],
   "source": [
    "def preprocessor(text):\n",
    "    \n",
    "    text = re.sub('<[^>]*>', '', text)\n",
    "    text = re.sub(r'[^\\w\\s]','', text)\n",
    "    text = text.lower()\n",
    "    return text\n",
    "    \n",
    "df['title_text'] = df['title_text'].apply(preprocessor)\n",
    "df['title_text'][50]"
   ]
  },
  {
   "cell_type": "code",
   "execution_count": 6,
   "id": "58e36791",
   "metadata": {},
   "outputs": [],
   "source": [
    "porter = PorterStemmer()\n",
    "def tokenizer_porter(text):\n",
    "    return [porter.stem(word) for word in text.split()]"
   ]
  },
  {
   "cell_type": "code",
   "execution_count": 7,
   "id": "6b6d4e05",
   "metadata": {},
   "outputs": [],
   "source": [
    "tfidf = TfidfVectorizer(strip_accents=None,\n",
    "                        lowercase=False,\n",
    "                        preprocessor=None,\n",
    "                        tokenizer=tokenizer_porter,\n",
    "                        use_idf=True,\n",
    "                        norm='l2',\n",
    "                        smooth_idf=True)\n",
    "X = tfidf.fit_transform(df['title_text'])\n",
    "y = df.label.values"
   ]
  },
  {
   "cell_type": "code",
   "execution_count": 8,
   "id": "25f32eba",
   "metadata": {},
   "outputs": [
    {
     "name": "stderr",
     "output_type": "stream",
     "text": [
      "[Parallel(n_jobs=-1)]: Using backend LokyBackend with 12 concurrent workers.\n",
      "[Parallel(n_jobs=-1)]: Done   2 out of   5 | elapsed:    3.4s remaining:    5.1s\n",
      "[Parallel(n_jobs=-1)]: Done   5 out of   5 | elapsed:    3.4s finished\n"
     ]
    }
   ],
   "source": [
    "X_train, X_test, y_train, y_test = train_test_split(X, y, random_state=0, test_size=0.5, shuffle=False)\n",
    "\n",
    "clf = LogisticRegressionCV(cv=5, scoring='accuracy', random_state=0, n_jobs=-1, verbose=3, max_iter=300).fit(X_train, y_train)\n",
    "\n",
    "fake_news_model = open('fake_news_model.sav', 'wb')\n",
    "pickle.dump(clf, fake_news_model)\n",
    "fake_news_model.close()"
   ]
  },
  {
   "cell_type": "code",
   "execution_count": 9,
   "id": "3aab6652",
   "metadata": {},
   "outputs": [
    {
     "data": {
      "text/plain": [
       "0.9226804123711341"
      ]
     },
     "execution_count": 9,
     "metadata": {},
     "output_type": "execute_result"
    }
   ],
   "source": [
    "filename = 'fake_news_model.sav'\n",
    "saved_clf = pickle.load(open(filename, 'rb'))\n",
    "\n",
    "saved_clf.score(X_test, y_test)"
   ]
  },
  {
   "cell_type": "code",
   "execution_count": 10,
   "id": "521e5080",
   "metadata": {},
   "outputs": [
    {
     "name": "stdout",
     "output_type": "stream",
     "text": [
      "---Test Set Results---\n",
      "Accuracy with logreg: 0.9226804123711341\n",
      "              precision    recall  f1-score   support\n",
      "\n",
      "        FAKE       0.93      0.92      0.92       287\n",
      "        TRUE       0.92      0.93      0.92       295\n",
      "\n",
      "    accuracy                           0.92       582\n",
      "   macro avg       0.92      0.92      0.92       582\n",
      "weighted avg       0.92      0.92      0.92       582\n",
      "\n"
     ]
    }
   ],
   "source": [
    "from sklearn.metrics import classification_report, accuracy_score\n",
    "y_pred = clf.predict(X_test)\n",
    "print(\"---Test Set Results---\")\n",
    "print(\"Accuracy with logreg: {}\".format(accuracy_score(y_test, y_pred)))\n",
    "print(classification_report(y_test, y_pred))"
   ]
  },
  {
   "cell_type": "code",
   "execution_count": 2,
   "id": "cbb42790",
   "metadata": {
    "scrolled": true
   },
   "outputs": [
    {
     "data": {
      "image/png": "[encoded data removed]",
      "text/plain": [
       "<Figure size 864x504 with 1 Axes>"
      ]
     },
     "metadata": {
      "needs_background": "light"
     },
     "output_type": "display_data"
    }
   ],
   "source": [
    "import numpy as np\n",
    "import matplotlib.pyplot as plt\n",
    " \n",
    "# set width of bar\n",
    "barWidth = 0.20\n",
    "fig = plt.subplots(figsize =(12, 7))\n",
    " \n",
    "# set height of bar\n",
    "precision = [93, 92, 0, 92,92]\n",
    "recall = [92, 93, 0, 92, 92]\n",
    "f1score = [92, 92, 92, 92, 92]\n",
    "support = [287, 295, 582,582,582] \n",
    "# Set position of bar on X axis\n",
    "br1 = np.arange(len(precision))\n",
    "br2 = [x + barWidth for x in br1]\n",
    "br3 = [x + barWidth for x in br2]\n",
    "br4 = [x + barWidth for x in br3] \n",
    "# Make the plot\n",
    "plt.bar(br1,precision, color ='r', width = barWidth,\n",
    "        edgecolor ='grey', label ='precision(100%)')\n",
    "plt.bar(br2,recall , color ='g', width = barWidth,\n",
    "        edgecolor ='grey', label ='recall(100%)')\n",
    "plt.bar(br3, f1score, color ='b', width = barWidth,\n",
    "        edgecolor ='grey', label ='f1score(100%)')\n",
    "plt.bar(br4, support, color ='y', width = barWidth,\n",
    "        edgecolor ='grey', label ='support') \n",
    "# Adding Xticks\n",
    "plt.xticks([r + barWidth for r in range(len(precision))],\n",
    "        ['FAKE', 'TRUE', 'Accuracy', 'Macro AVG', 'Weighted Avg'])\n",
    " \n",
    "plt.legend()\n",
    "plt.show()"
   ]
  },
  {
   "cell_type": "code",
   "execution_count": null,
   "id": "68011b34",
   "metadata": {},
   "outputs": [],
   "source": []
  }
 ],
 "metadata": {
  "kernelspec": {
   "display_name": "Python 3",
   "language": "python",
   "name": "python3"
  },
  "language_info": {
   "codemirror_mode": {
    "name": "ipython",
    "version": 3
   },
   "file_extension": ".py",
   "mimetype": "text/x-python",
   "name": "python",
   "nbconvert_exporter": "python",
   "pygments_lexer": "ipython3",
   "version": "3.8.8"
  }
 },
 "nbformat": 4,
 "nbformat_minor": 5
}
