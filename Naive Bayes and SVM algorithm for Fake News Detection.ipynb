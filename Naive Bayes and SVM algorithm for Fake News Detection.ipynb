{
 "cells": [
  {
   "cell_type": "markdown",
   "id": "00b71850",
   "metadata": {},
   "source": [
    "#### Full work done by Jasmine Akter Ratri and Maria Mehjabin Shenjuti "
   ]
  },
  {
   "cell_type": "code",
   "execution_count": 1,
   "id": "137c6d55",
   "metadata": {},
   "outputs": [],
   "source": [
    "import numpy as np # linear algebra\n",
    "import pandas as pd # data processing, CSV file I/O (e.g. pd.read_csv)\n",
    "import warnings\n",
    "warnings.filterwarnings('ignore')"
   ]
  },
  {
   "cell_type": "code",
   "execution_count": 2,
   "id": "d048bcf6",
   "metadata": {},
   "outputs": [],
   "source": [
    "import pandas as pd\n",
    "import numpy as np\n",
    "import nltk\n",
    "from nltk.stem import WordNetLemmatizer\n",
    "from nltk.corpus import stopwords\n",
    "#import keras\n",
    "import re\n",
    "import string"
   ]
  },
  {
   "cell_type": "code",
   "execution_count": 3,
   "id": "44be99d8",
   "metadata": {},
   "outputs": [],
   "source": [
    "df = pd.read_csv('data.csv')"
   ]
  },
  {
   "cell_type": "code",
   "execution_count": 4,
   "id": "48b4ea99",
   "metadata": {},
   "outputs": [
    {
     "data": {
      "text/html": [
       "<div>\n",
       "<style scoped>\n",
       "    .dataframe tbody tr th:only-of-type {\n",
       "        vertical-align: middle;\n",
       "    }\n",
       "\n",
       "    .dataframe tbody tr th {\n",
       "        vertical-align: top;\n",
       "    }\n",
       "\n",
       "    .dataframe thead th {\n",
       "        text-align: right;\n",
       "    }\n",
       "</style>\n",
       "<table border=\"1\" class=\"dataframe\">\n",
       "  <thead>\n",
       "    <tr style=\"text-align: right;\">\n",
       "      <th></th>\n",
       "      <th>URLs</th>\n",
       "      <th>Headline</th>\n",
       "      <th>Body</th>\n",
       "      <th>Label</th>\n",
       "    </tr>\n",
       "  </thead>\n",
       "  <tbody>\n",
       "    <tr>\n",
       "      <th>0</th>\n",
       "      <td>http://www.bbc.com/news/world-us-canada-414191...</td>\n",
       "      <td>Four ways Bob Corker skewered Donald Trump</td>\n",
       "      <td>Image copyright Getty Images\\nOn Sunday mornin...</td>\n",
       "      <td>1</td>\n",
       "    </tr>\n",
       "    <tr>\n",
       "      <th>1</th>\n",
       "      <td>https://www.reuters.com/article/us-filmfestiva...</td>\n",
       "      <td>Linklater's war veteran comedy speaks to moder...</td>\n",
       "      <td>LONDON (Reuters) - “Last Flag Flying”, a comed...</td>\n",
       "      <td>1</td>\n",
       "    </tr>\n",
       "    <tr>\n",
       "      <th>2</th>\n",
       "      <td>https://www.nytimes.com/2017/10/09/us/politics...</td>\n",
       "      <td>Trump’s Fight With Corker Jeopardizes His Legi...</td>\n",
       "      <td>The feud broke into public view last week when...</td>\n",
       "      <td>1</td>\n",
       "    </tr>\n",
       "    <tr>\n",
       "      <th>3</th>\n",
       "      <td>https://www.reuters.com/article/us-mexico-oil-...</td>\n",
       "      <td>Egypt's Cheiron wins tie-up with Pemex for Mex...</td>\n",
       "      <td>MEXICO CITY (Reuters) - Egypt’s Cheiron Holdin...</td>\n",
       "      <td>1</td>\n",
       "    </tr>\n",
       "    <tr>\n",
       "      <th>4</th>\n",
       "      <td>http://www.cnn.com/videos/cnnmoney/2017/10/08/...</td>\n",
       "      <td>Jason Aldean opens 'SNL' with Vegas tribute</td>\n",
       "      <td>Country singer Jason Aldean, who was performin...</td>\n",
       "      <td>1</td>\n",
       "    </tr>\n",
       "  </tbody>\n",
       "</table>\n",
       "</div>"
      ],
      "text/plain": [
       "                                                URLs  \\\n",
       "0  http://www.bbc.com/news/world-us-canada-414191...   \n",
       "1  https://www.reuters.com/article/us-filmfestiva...   \n",
       "2  https://www.nytimes.com/2017/10/09/us/politics...   \n",
       "3  https://www.reuters.com/article/us-mexico-oil-...   \n",
       "4  http://www.cnn.com/videos/cnnmoney/2017/10/08/...   \n",
       "\n",
       "                                            Headline  \\\n",
       "0         Four ways Bob Corker skewered Donald Trump   \n",
       "1  Linklater's war veteran comedy speaks to moder...   \n",
       "2  Trump’s Fight With Corker Jeopardizes His Legi...   \n",
       "3  Egypt's Cheiron wins tie-up with Pemex for Mex...   \n",
       "4        Jason Aldean opens 'SNL' with Vegas tribute   \n",
       "\n",
       "                                                Body  Label  \n",
       "0  Image copyright Getty Images\\nOn Sunday mornin...      1  \n",
       "1  LONDON (Reuters) - “Last Flag Flying”, a comed...      1  \n",
       "2  The feud broke into public view last week when...      1  \n",
       "3  MEXICO CITY (Reuters) - Egypt’s Cheiron Holdin...      1  \n",
       "4  Country singer Jason Aldean, who was performin...      1  "
      ]
     },
     "execution_count": 4,
     "metadata": {},
     "output_type": "execute_result"
    }
   ],
   "source": [
    "df.head()"
   ]
  },
  {
   "cell_type": "code",
   "execution_count": 5,
   "id": "1e7a7e44",
   "metadata": {},
   "outputs": [
    {
     "data": {
      "text/plain": [
       "0    2137\n",
       "1    1872\n",
       "Name: Label, dtype: int64"
      ]
     },
     "execution_count": 5,
     "metadata": {},
     "output_type": "execute_result"
    }
   ],
   "source": [
    "df['Label'].value_counts()"
   ]
  },
  {
   "cell_type": "code",
   "execution_count": 2,
   "id": "d2c6ca5f",
   "metadata": {},
   "outputs": [
    {
     "data": {
      "image/png": "[encoded data removed]",
      "text/plain": [
       "<Figure size 432x288 with 1 Axes>"
      ]
     },
     "metadata": {
      "needs_background": "light"
     },
     "output_type": "display_data"
    }
   ],
   "source": [
    "import matplotlib.pyplot as plt \n",
    "import numpy as np\n",
    "\n",
    "x = np.array([\"True\",\"False\"])\n",
    "y = np.array([2137,1872])\n",
    "\n",
    "plt.title('Distribution of Fake News and Real News', size=10)\n",
    "plt.xlabel('News Type', size=10)\n",
    "plt.ylabel('# of News Articles', size=10)\n",
    "plt.bar(x,y)\n",
    "plt.show()"
   ]
  },
  {
   "cell_type": "code",
   "execution_count": 7,
   "id": "8412cb24",
   "metadata": {},
   "outputs": [
    {
     "data": {
      "text/plain": [
       "4009"
      ]
     },
     "execution_count": 7,
     "metadata": {},
     "output_type": "execute_result"
    }
   ],
   "source": [
    "len(df)"
   ]
  },
  {
   "cell_type": "code",
   "execution_count": 8,
   "id": "23676297",
   "metadata": {},
   "outputs": [
    {
     "name": "stderr",
     "output_type": "stream",
     "text": [
      "[nltk_data] Downloading package stopwords to\n",
      "[nltk_data]     C:\\Users\\Pial\\AppData\\Roaming\\nltk_data...\n",
      "[nltk_data]   Package stopwords is already up-to-date!\n"
     ]
    }
   ],
   "source": [
    "wordnet = WordNetLemmatizer()\n",
    "nltk.download('stopwords')\n",
    "stop_words = set(stopwords.words('english'))\n",
    "\n",
    "def clean_doc(doc):\n",
    "    \n",
    "    # remove punctuation\n",
    "    doc = re.sub(r\"[\\s+\\.\\!\\/_,|%^*#(+\\\"\\')?<>:-]\", \" \", doc)\n",
    "    \n",
    "    # remove @\n",
    "    pattern2 = r\"@\\S+\"\n",
    "    doc = re.sub(pattern2, \"\", doc)\n",
    "\n",
    "    # tokenization\n",
    "    tokens = nltk.word_tokenize(doc)\n",
    "    \n",
    "    # lower words\n",
    "    tokens = [word.lower() for word in tokens]\n",
    "    \n",
    "    # remove stopwords\n",
    "    tokens = [w for w in tokens if not w in stop_words]\n",
    "    \n",
    "    # Return a cleaned string or list\n",
    "    return\" \".join(tokens)"
   ]
  },
  {
   "cell_type": "code",
   "execution_count": 9,
   "id": "727f102e",
   "metadata": {},
   "outputs": [
    {
     "name": "stdout",
     "output_type": "stream",
     "text": [
      "The number of nan headlines is 0\n",
      "The number of nan bodies is 21\n",
      "The number of nan bodies is 0\n"
     ]
    },
    {
     "data": {
      "text/plain": [
       "3988"
      ]
     },
     "execution_count": 9,
     "metadata": {},
     "output_type": "execute_result"
    }
   ],
   "source": [
    "print(\"The number of nan headlines is\", df['Headline'].isna().sum())\n",
    "print(\"The number of nan bodies is\", df['Body'].isna().sum())\n",
    "print(\"The number of nan bodies is\", df['Label'].isna().sum())\n",
    "\n",
    "df = df.dropna(subset=[ 'Body'])\n",
    "len(df)"
   ]
  },
  {
   "cell_type": "code",
   "execution_count": 10,
   "id": "20ec5595",
   "metadata": {},
   "outputs": [
    {
     "name": "stderr",
     "output_type": "stream",
     "text": [
      "[nltk_data] Downloading package punkt to\n",
      "[nltk_data]     C:\\Users\\Pial\\AppData\\Roaming\\nltk_data...\n",
      "[nltk_data]   Package punkt is already up-to-date!\n"
     ]
    }
   ],
   "source": [
    "nltk.download('punkt')\n",
    "df['Headline_clean'] = df['Headline'].apply(lambda x: clean_doc(x))\n",
    "df['Body_clean'] = df['Body'].apply(lambda x: clean_doc(x))"
   ]
  },
  {
   "cell_type": "code",
   "execution_count": 11,
   "id": "c8a5e979",
   "metadata": {},
   "outputs": [],
   "source": [
    "corpus = pd.concat([df['Headline_clean'], df['Body_clean']])\n",
    "MAX_FEATURES = 10000\n",
    "\n",
    "#Assign the type of vectorizer\n",
    "VECTORIZER = 'tfidf'\n",
    "\n",
    "from sklearn.feature_extraction.text import TfidfVectorizer\n",
    "def fit_tfidf(documents):\n",
    "    tfidf = TfidfVectorizer(input = 'content', stop_words = 'english',  \n",
    "                            max_features = MAX_FEATURES )\n",
    "    tfidf.fit(documents.values)\n",
    "    return tfidf\n",
    "\n",
    "from sklearn.feature_extraction.text import CountVectorizer\n",
    "def fit_bow(documents):\n",
    "    bow = CountVectorizer(input='content', stop_words='english',\n",
    "                          max_features = MAX_FEATURES)\n",
    "    bow.fit(documents.values)\n",
    "    return bow\n",
    "\n",
    "if VECTORIZER == 'tfidf':\n",
    "    vectorizer = fit_tfidf(corpus)\n",
    "\n",
    "elif VECTORIZER == 'bow':\n",
    "    vertorizer = fit_bow(corpus)\n",
    "\n",
    "headline_matrix = vectorizer.transform(df['Headline_clean'])\n",
    "body_matrix = vectorizer.transform(df['Body_clean'])"
   ]
  },
  {
   "cell_type": "code",
   "execution_count": 12,
   "id": "4cfcee11",
   "metadata": {},
   "outputs": [
    {
     "data": {
      "text/plain": [
       "<3988x10000 sparse matrix of type '<class 'numpy.float64'>'\n",
       "\twith 596914 stored elements in Compressed Sparse Row format>"
      ]
     },
     "execution_count": 12,
     "metadata": {},
     "output_type": "execute_result"
    }
   ],
   "source": [
    "body_matrix"
   ]
  },
  {
   "cell_type": "code",
   "execution_count": 13,
   "id": "efcffac3",
   "metadata": {},
   "outputs": [],
   "source": [
    "from sklearn.model_selection import train_test_split\n",
    "from scipy.sparse import coo_matrix, hstack\n",
    "X = hstack([headline_matrix, body_matrix]).toarray()\n",
    "#X = np.concatenate((headline_matrix, body_matrix), axis=1)\n",
    "y = df.Label\n",
    "X_train, X_test, y_train, y_test = train_test_split( X, y, test_size=0.25, random_state=42)"
   ]
  },
  {
   "cell_type": "markdown",
   "id": "91a783f9",
   "metadata": {},
   "source": [
    "#### Naive Bayes done by Maria Mehjabin Shenjuti"
   ]
  },
  {
   "cell_type": "code",
   "execution_count": 14,
   "id": "8753e818",
   "metadata": {},
   "outputs": [
    {
     "name": "stdout",
     "output_type": "stream",
     "text": [
      "The accuracy for testing data is 0.9388164493480441\n",
      "The accuracy for training data is 0.9729187562688064\n"
     ]
    }
   ],
   "source": [
    "from sklearn.naive_bayes import MultinomialNB\n",
    "##--Multinomial Naive Bayes Model\n",
    "clf = MultinomialNB().fit(X_train,  y_train)\n",
    "prediction = clf.predict(X_test)\n",
    "print(\"The accuracy for testing data is\", np.mean(prediction == y_test) )\n",
    "print(\"The accuracy for training data is\", np.mean(clf.predict(X_train) == y_train) )"
   ]
  },
  {
   "cell_type": "markdown",
   "id": "9ec9e8d6",
   "metadata": {},
   "source": [
    "#### SVM done by Jasmine Akter Ratri"
   ]
  },
  {
   "cell_type": "code",
   "execution_count": 15,
   "id": "c722d4d9",
   "metadata": {},
   "outputs": [
    {
     "name": "stdout",
     "output_type": "stream",
     "text": [
      "Best parameters are:  {'alpha': 0.001, 'loss': 'hinge', 'max_iter': 10, 'penalty': 'l2'}\n"
     ]
    }
   ],
   "source": [
    "from sklearn.model_selection import GridSearchCV\n",
    "from sklearn.linear_model import SGDClassifier\n",
    "param_grid =  {'loss': ['hinge', 'squared_loss'], 'penalty': ['l2','l1'],\n",
    "       'alpha':[0.01,0.001],'max_iter':[10]}\n",
    "\n",
    "clf2 = GridSearchCV(SGDClassifier(), param_grid)\n",
    "clf2.fit(X_train, y_train)\n",
    "print(\"Best parameters are: \", clf2.best_params_)"
   ]
  },
  {
   "cell_type": "code",
   "execution_count": 16,
   "id": "3badeb0d",
   "metadata": {},
   "outputs": [
    {
     "name": "stdout",
     "output_type": "stream",
     "text": [
      "The classification report is:\n",
      "              precision    recall  f1-score   support\n",
      "\n",
      "           0       0.99      0.96      0.98       560\n",
      "           1       0.95      0.99      0.97       437\n",
      "\n",
      "    accuracy                           0.97       997\n",
      "   macro avg       0.97      0.98      0.97       997\n",
      "weighted avg       0.97      0.97      0.97       997\n",
      "\n",
      "The accuracy for testing data is 0.9739217652958877\n",
      "The accuracy for training data is 0.9983283182881979\n"
     ]
    }
   ],
   "source": [
    "from sklearn.metrics import classification_report \n",
    "y_pred = clf2.predict(X_test)\n",
    "print(\"The classification report is:\")\n",
    "print(classification_report(y_test, y_pred))\n",
    "\n",
    "print(\"The accuracy for testing data is\", np.mean(y_pred == y_test) )\n",
    "print(\"The accuracy for training data is\", np.mean(clf2.predict(X_train) == y_train) )"
   ]
  },
  {
   "cell_type": "code",
   "execution_count": 1,
   "id": "0d6e0ca4",
   "metadata": {},
   "outputs": [
    {
     "data": {
      "image/png": "[encoded data removed]",
      "text/plain": [
       "<Figure size 864x504 with 1 Axes>"
      ]
     },
     "metadata": {
      "needs_background": "light"
     },
     "output_type": "display_data"
    }
   ],
   "source": [
    "import numpy as np\n",
    "import matplotlib.pyplot as plt\n",
    " \n",
    "# set width of bar\n",
    "barWidth = 0.20\n",
    "fig = plt.subplots(figsize =(12, 7))\n",
    " \n",
    "# set height of bar\n",
    "precision = [99, 95, 0, 97,97]\n",
    "recall = [96, 99, 0, 98, 97]\n",
    "f1score = [98, 97, 97, 97, 97]\n",
    "support = [560, 437, 997, 997, 997]\n",
    "# Set position of bar on X axis\n",
    "br1 = np.arange(len(precision))\n",
    "br2 = [x + barWidth for x in br1]\n",
    "br3 = [x + barWidth for x in br2]\n",
    "br4 = [x + barWidth for x in br3]\n",
    "# Make the plot\n",
    "plt.bar(br1,precision, color ='r', width = barWidth,\n",
    "        edgecolor ='grey', label ='precision(100%)')\n",
    "plt.bar(br2,recall , color ='g', width = barWidth,\n",
    "        edgecolor ='grey', label ='recall(100%)')\n",
    "plt.bar(br3, f1score, color ='b', width = barWidth,\n",
    "        edgecolor ='grey', label ='f1score(100%)')\n",
    "plt.bar(br4, support, color ='y', width = barWidth,\n",
    "        edgecolor ='grey', label ='support')\n",
    "# Adding Xticks\n",
    "plt.xticks([r + barWidth for r in range(len(precision))],\n",
    "        ['FAKE', 'TRUE', 'Accuracy', 'Macro AVG', 'Weighted Avg'])\n",
    " \n",
    "plt.legend()\n",
    "plt.show()"
   ]
  },
  {
   "cell_type": "code",
   "execution_count": null,
   "id": "1f564d34",
   "metadata": {},
   "outputs": [],
   "source": []
  }
 ],
 "metadata": {
  "kernelspec": {
   "display_name": "Python 3",
   "language": "python",
   "name": "python3"
  },
  "language_info": {
   "codemirror_mode": {
    "name": "ipython",
    "version": 3
   },
   "file_extension": ".py",
   "mimetype": "text/x-python",
   "name": "python",
   "nbconvert_exporter": "python",
   "pygments_lexer": "ipython3",
   "version": "3.8.8"
  }
 },
 "nbformat": 4,
 "nbformat_minor": 5
}
